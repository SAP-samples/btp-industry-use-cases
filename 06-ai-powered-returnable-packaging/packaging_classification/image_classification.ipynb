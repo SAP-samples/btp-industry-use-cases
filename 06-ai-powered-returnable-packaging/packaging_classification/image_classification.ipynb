{
 "cells": [
  {
   "cell_type": "markdown",
   "metadata": {},
   "source": [
    "## Display libraries"
   ]
  },
  {
   "cell_type": "code",
   "execution_count": null,
   "metadata": {},
   "outputs": [],
   "source": [
    "!pip list"
   ]
  },
  {
   "cell_type": "markdown",
   "metadata": {},
   "source": [
    "## Computer Vision package - show pipelines "
   ]
  },
  {
   "cell_type": "code",
   "execution_count": null,
   "metadata": {},
   "outputs": [],
   "source": [
    "from ai_core_sdk.content import get_content_packages\n",
    "\n",
    "pkgs = get_content_packages()\n",
    "sap_cv_pkg = pkgs['sap-cv']\n",
    "\n",
    "for workflow in sap_cv_pkg.workflows.values():\n",
    "    print(workflow)"
   ]
  },
  {
   "cell_type": "markdown",
   "metadata": {},
   "source": [
    "## Build a classification training workflow"
   ]
  },
  {
   "cell_type": "code",
   "execution_count": null,
   "metadata": {},
   "outputs": [],
   "source": [
    "workflow = sap_cv_pkg.workflows['image-classification-train']"
   ]
  },
  {
   "cell_type": "code",
   "execution_count": null,
   "metadata": {},
   "outputs": [],
   "source": [
    "workflow_config = {\n",
    "    \"name\":\"sap-cv-package-image-classification-train\",\n",
    "    \"image\":\"amagnani/sap-cv-package-image-classification-train:latest\",\n",
    "    \"labels\":{\n",
    "        \"scenarios.ai.sap.com/id\":\"sap-cv-image-classification\",\n",
    "        \"ai.sap.com/version\":\"0.0.1\"\n",
    "    },\n",
    "    \"annotation\":{\n",
    "        \"scenarios.ai.sap.com/name\":\"SAP CV Package Classification\",\n",
    "    },\n",
    "    \"imagePullSecret\":\"YOUR_DOCKER_REGISTRY_SECRET\",\n",
    "    \"objectStoreSecret\":\"default-object-store-secret\"\n",
    "}"
   ]
  },
  {
   "cell_type": "code",
   "execution_count": null,
   "metadata": {},
   "outputs": [],
   "source": [
    "workflow.create_image[workflow_config]"
   ]
  },
  {
   "cell_type": "code",
   "execution_count": null,
   "metadata": {},
   "outputs": [],
   "source": [
    "!docker push YOUR_DOCKER_REGISTRY_SECRET/sap-cv-package-image-classification-train:latest"
   ]
  },
  {
   "cell_type": "code",
   "execution_count": null,
   "metadata": {},
   "outputs": [],
   "source": [
    "output_file=\"sap-cv-package-image-classification-train.json\"\n",
    "workflow.create_template[workflow_config, output_file]"
   ]
  },
  {
   "cell_type": "code",
   "execution_count": null,
   "metadata": {},
   "outputs": [],
   "source": [
    "!ls sap-cv-package-image-classification-train.json"
   ]
  },
  {
   "cell_type": "markdown",
   "metadata": {},
   "source": []
  },
  {
   "cell_type": "code",
   "execution_count": null,
   "metadata": {},
   "outputs": [],
   "source": []
  }
 ],
 "metadata": {
  "kernelspec": {
   "display_name": "Python 3",
   "language": "python",
   "name": "python3"
  },
  "language_info": {
   "name": "python",
   "version": "3.9.18"
  }
 },
 "nbformat": 4,
 "nbformat_minor": 2
}
